{
 "cells": [
  {
   "cell_type": "code",
   "execution_count": 1,
   "metadata": {
    "pycharm": {
     "name": "#%%\n"
    }
   },
   "outputs": [
    {
     "name": "stdout",
     "output_type": "stream",
     "text": [
      "hi\n"
     ]
    }
   ],
   "source": [
    "print(\"hi\")"
   ]
  },
  {
   "cell_type": "code",
   "execution_count": 23,
   "metadata": {
    "scrolled": true
   },
   "outputs": [
    {
     "name": "stdout",
     "output_type": "stream",
     "text": [
      "--------- --------------- -------------------- ---------- ----------\n",
      "  time(t)   population(t) population(t-changet)     Growth   change t\n",
      "0.005000\n",
      "0.010000\n",
      "0.015000\n",
      "0.020000\n",
      "0.025000\n",
      "0.030000\n",
      "0.035000\n",
      "0.040000\n"
     ]
    }
   ],
   "source": [
    "t1=0\n",
    "population1=100\n",
    "populationchanget1=0\n",
    "growth1=0\n",
    "change1=0\n",
    "print(\"%9s %15s %20s %10s %10s\" %(\"---------\",\"---------------\",\"--------------------\",\"----------\",\"----------\"))\n",
    "print(\"%9s %15s %20s %10s %10s\" %(\"time(t)\",\"population(t)\",\"population(t-changet)\",\"Growth\",\"change t\"))\n",
    "step=.005\n",
    "ftime=0\n",
    "for col in range(0,8):\n",
    "    ftime=step+ftime\n",
    "    print(\"%4f\" % ftime)"
   ]
  },
  {
   "cell_type": "code",
   "execution_count": null,
   "metadata": {},
   "outputs": [],
   "source": []
  },
  {
   "cell_type": "code",
   "execution_count": null,
   "metadata": {},
   "outputs": [],
   "source": []
  }
 ],
 "metadata": {
  "kernelspec": {
   "display_name": "Python 3",
   "language": "python",
   "name": "python3"
  },
  "language_info": {
   "codemirror_mode": {
    "name": "ipython",
    "version": 3
   },
   "file_extension": ".py",
   "mimetype": "text/x-python",
   "name": "python",
   "nbconvert_exporter": "python",
   "pygments_lexer": "ipython3",
   "version": "3.8.8"
  }
 },
 "nbformat": 4,
 "nbformat_minor": 1
}